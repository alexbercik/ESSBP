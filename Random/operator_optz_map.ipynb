{
 "cells": [
  {
   "cell_type": "code",
   "execution_count": 5,
   "metadata": {},
   "outputs": [],
   "source": [
    "import os\n",
    "from sys import path\n",
    "\n",
    "n_nested_folder = 1\n",
    "folder_path = os.path.abspath('')\n",
    "\n",
    "for i in range(n_nested_folder):\n",
    "    folder_path, _ = os.path.split(folder_path)\n",
    "\n",
    "path.append(folder_path)\n",
    "\n",
    "import numpy as np\n",
    "from Source.Disc.MakeSbpOp import MakeSbpOp\n",
    "from Source.Disc.MakeMesh import MakeMesh\n",
    "from Source.Methods.Analysis import plot_sparsity\n",
    "import matplotlib.pyplot as plt"
   ]
  },
  {
   "cell_type": "code",
   "execution_count": 6,
   "metadata": {},
   "outputs": [
    {
     "name": "stdout",
     "output_type": "stream",
     "text": [
      "skipping\n"
     ]
    }
   ],
   "source": [
    "%%script echo skipping\n",
    "# find a nice function to define the transformation\n",
    "xmin = 0\n",
    "xmax = 1\n",
    "dom_len = xmax-xmin\n",
    "warp_factor = 1.4901161193847656e-08\n",
    "warp_factor2 = 0.\n",
    "xcrit = 0.\n",
    "\n",
    "x = np.linspace(0,1,num=100,endpoint=True)\n",
    "a = warp_factor\n",
    "b = warp_factor2\n",
    "xk = xcrit\n",
    "assert(a>=0),'warp_factor must be >0, or >1 to squish at boundaries'\n",
    "assert(b <= xk**(1-a)/(a*(1-2*xk)+2*xk) and b >= 0),'warp_factor2={0} outside allowed range [0,{1}]'.format(b, xk**(1-a)/(a*(1-2*xk)+2*xk))\n",
    "assert(xk >= 0 and xk <= 0.5),'warp_factor3 must be between 0 and 0.5'\n",
    "c1 = -a*b*xk**(a-1) + 1 + 2*(a-1)*b*xk**a\n",
    "c2 = (a-1)*b*xk**a + 0.5\n",
    "f = np.where(x<=xk, b*x**a+c1*x,0)\n",
    "f = np.where(((xk<=x) & (x<=1-xk)), c2*(2*x-1)+0.5,f)\n",
    "f = np.where(1-xk<=x, 1-b*(1-x)**a-c1*(1-x),f)\n",
    "df = np.where(x<=xk, a*b*x**(a-1)+c1,0)\n",
    "df = np.where(((xk<=x) & (x<=1-xk)), c2*2,df)\n",
    "df = np.where(1-xk<=x, a*b*(1-x)**(a-1)+c1,df)\n",
    "#f = dom_len*((1+warp_factor)*(arg-0.5)/(1+warp_factor*np.abs(2*arg-1)) + 0.5) + xmin\n",
    "#df = (1+warp_factor)/((1+warp_factor*np.abs(2*arg-1))**2)\n",
    "df2 = (f[2:]-f[:-2])/(x[2]-x[0])\n",
    "plt.plot(x,f)\n",
    "plt.plot(x,x)\n",
    "plt.figure()\n",
    "plt.plot(x,df)\n",
    "plt.plot(x[1:-1],df2)"
   ]
  },
  {
   "cell_type": "code",
   "execution_count": 7,
   "metadata": {},
   "outputs": [
    {
     "name": "stdout",
     "output_type": "stream",
     "text": [
      "... Building reference operators\n",
      "Test: Quadrature H is order 3.\n",
      "Test: Derivative D is degree 2.\n",
      "Test: Derivative D is order 2.9 in test 1, 3.0 in test 2. (element-refinement, so should expect p+1)\n",
      "Test: Compatibility equations hold to order 2\n",
      "Test: The interpolation tL/tR is exact, i.e. there are boundary nodes.\n",
      "Test: The operator succesfully passed all decomposition tests.\n",
      "... Building Mesh\n"
     ]
    },
    {
     "data": {
      "image/png": "[encoded data removed]",
      "text/plain": [
       "<Figure size 600x100 with 1 Axes>"
      ]
     },
     "metadata": {},
     "output_type": "display_data"
    }
   ],
   "source": [
    "p=2\n",
    "nn=20\n",
    "refref = MakeSbpOp(p=p,sbp_type='csbp',nn=nn)\n",
    "Hrefref, Drefref = np.diag(refref.H), refref.D\n",
    "refrefmesh = MakeMesh(dim=1,xmin=0,xmax=1,nelem=1,x_op=refref.x,warp_factor=0,warp_type='default')\n",
    "refrefmesh.plot()"
   ]
  },
  {
   "cell_type": "code",
   "execution_count": 8,
   "metadata": {},
   "outputs": [
    {
     "name": "stdout",
     "output_type": "stream",
     "text": [
      "... Building Mesh\n",
      "... Stretching mesh by a factor of 0.416\n"
     ]
    },
    {
     "data": {
      "image/png": "[encoded data removed]",
      "text/plain": [
       "<Figure size 600x100 with 1 Axes>"
      ]
     },
     "metadata": {},
     "output_type": "display_data"
    }
   ],
   "source": [
    "\n",
    "warp_factor = 0.416 #0.67\n",
    "warp_factor2 = 0.\n",
    "xcrit = 0.\n",
    "warp_type = 'tanh'\n",
    "refmesh = MakeMesh(dim=1,xmin=0,xmax=1,nelem=1,x_op=refref.x,warp_factor=warp_factor,warp_type=warp_type,warp_factor2=warp_factor2,warp_factor3=xcrit)\n",
    "refmesh.plot()"
   ]
  },
  {
   "cell_type": "code",
   "execution_count": 9,
   "metadata": {},
   "outputs": [
    {
     "name": "stdout",
     "output_type": "stream",
     "text": [
      "... Computing Grid Metrics\n",
      "... Creating physical operators\n"
     ]
    }
   ],
   "source": [
    "refmesh.get_jac_metrics(refref, periodic=False,\n",
    "                        metric_method = 'exact', \n",
    "                        bdy_metric_method = 'exact',\n",
    "                        jac_method='exact',\n",
    "                        use_optz_metrics = 'False',\n",
    "                        calc_exact_metrics = False)\n",
    "Href, Dref, _ = refref.ref_2_phys(refmesh, 'skew_sym')\n",
    "Href, Dref = Href[:,0], Dref[:,:,0]"
   ]
  },
  {
   "cell_type": "code",
   "execution_count": 18,
   "metadata": {},
   "outputs": [
    {
     "data": {
      "text/latex": [
       "$\\displaystyle \\text{Using a value of } \\Delta x =  0.0526315789473684$"
      ],
      "text/plain": [
       "<IPython.core.display.Math object>"
      ]
     },
     "metadata": {},
     "output_type": "display_data"
    },
    {
     "data": {
      "text/latex": [
       "$\\displaystyle \\text{Mat[0] = } - 0.572965755653994 (\\Delta x)^{6} u_{x x x x x x} - 1.60710311170679 (\\Delta x)^{5} u_{x x x x x} - 3.69664405502177 (\\Delta x)^{4} u_{x x x x} - 5.96713677621527 (\\Delta x)^{3} u_{x x x} - 2.32498557847206 (\\Delta x)^{2} u_{x x} + 18.9539704712067 (\\Delta x) u_{x}$"
      ],
      "text/plain": [
       "<IPython.core.display.Math object>"
      ]
     },
     "metadata": {},
     "output_type": "display_data"
    },
    {
     "data": {
      "text/latex": [
       "$\\displaystyle \\text{Mat[1] = } (\\Delta x) \\left(0.00174942420754491 (\\Delta x)^{5} u_{x x x x x x} + 0.0418006933491085 (\\Delta x)^{4} u_{x x x x x} + 0.0687715680406729 (\\Delta x)^{3} u_{x x x x} + 1.61630288465974 (\\Delta x)^{2} u_{x x x} + 0.81495183667128 (\\Delta x) u_{x x} + 19.015432973464 u_{x}\\right)$"
      ],
      "text/plain": [
       "<IPython.core.display.Math object>"
      ]
     },
     "metadata": {},
     "output_type": "display_data"
    },
    {
     "data": {
      "text/latex": [
       "$\\displaystyle \\text{Mat[2] = } - 0.0654274268995799 (\\Delta x)^{6} u_{x x x x x x} - 0.33734671309835 (\\Delta x)^{5} u_{x x x x x} - 0.408324309589181 (\\Delta x)^{4} u_{x x x x} - 0.321703208078936 (\\Delta x)^{3} u_{x x x} - 0.0881560326078379 (\\Delta x)^{2} u_{x x} + 19.0001104829005 (\\Delta x) u_{x}$"
      ],
      "text/plain": [
       "<IPython.core.display.Math object>"
      ]
     },
     "metadata": {},
     "output_type": "display_data"
    },
    {
     "data": {
      "text/latex": [
       "$\\displaystyle \\text{Mat[3] = } - 0.00184178927802656 (\\Delta x)^{6} u_{x x x x x x} - 0.600202418912254 (\\Delta x)^{5} u_{x x x x x} - 0.154940359592803 (\\Delta x)^{4} u_{x x x x} - 0.249644299069308 (\\Delta x)^{3} u_{x x x} - 0.147061816179825 (\\Delta x)^{2} u_{x x} + 18.9988372683518 (\\Delta x) u_{x}$"
      ],
      "text/plain": [
       "<IPython.core.display.Math object>"
      ]
     },
     "metadata": {},
     "output_type": "display_data"
    },
    {
     "data": {
      "text/latex": [
       "$\\displaystyle \\text{Mat[4] = } - 0.117069891324437 (\\Delta x)^{6} u_{x x x x x x} - 0.60080055636283 (\\Delta x)^{5} u_{x x x x x} - 0.48963557771741 (\\Delta x)^{4} u_{x x x x} - 0.0289965666888863 (\\Delta x)^{3} u_{x x x} + 0.0151042389753528 (\\Delta x)^{2} u_{x x} + 19.0002002610982 (\\Delta x) u_{x}$"
      ],
      "text/plain": [
       "<IPython.core.display.Math object>"
      ]
     },
     "metadata": {},
     "output_type": "display_data"
    },
    {
     "data": {
      "text/latex": [
       "$\\displaystyle \\text{Mat[5] = } - 0.1432865213552 (\\Delta x)^{6} u_{x x x x x x} - 0.79471299845333 (\\Delta x)^{5} u_{x x x x x} - 0.514931832383184 (\\Delta x)^{4} u_{x x x x} + 0.0109342479724801 (\\Delta x)^{3} u_{x x x} + 0.016784240552973 (\\Delta x)^{2} u_{x x} + 18.9999798200959 (\\Delta x) u_{x}$"
      ],
      "text/plain": [
       "<IPython.core.display.Math object>"
      ]
     },
     "metadata": {},
     "output_type": "display_data"
    },
    {
     "data": {
      "text/latex": [
       "$\\displaystyle \\text{Mat[6] = } - 0.15482701351546 (\\Delta x)^{6} u_{x x x x x x} - 0.99638935718404 (\\Delta x)^{5} u_{x x x x x} - 0.491624827024735 (\\Delta x)^{4} u_{x x x x} + 0.0569637314618672 (\\Delta x)^{3} u_{x x x} + 0.0164966137393527 (\\Delta x)^{2} u_{x x} + 18.9997493459324 (\\Delta x) u_{x}$"
      ],
      "text/plain": [
       "<IPython.core.display.Math object>"
      ]
     },
     "metadata": {},
     "output_type": "display_data"
    },
    {
     "data": {
      "text/latex": [
       "$\\displaystyle \\text{Mat[7] = } - 0.142080576770681 (\\Delta x)^{6} u_{x x x x x x} - 1.18205404109903 (\\Delta x)^{5} u_{x x x x x} - 0.410553049581604 (\\Delta x)^{4} u_{x x x x} + 0.102310121144683 (\\Delta x)^{3} u_{x x x} + 0.0139792384474884 (\\Delta x)^{2} u_{x x} + 18.9995380054476 (\\Delta x) u_{x}$"
      ],
      "text/plain": [
       "<IPython.core.display.Math object>"
      ]
     },
     "metadata": {},
     "output_type": "display_data"
    },
    {
     "data": {
      "text/latex": [
       "$\\displaystyle \\text{Mat[8] = } - 0.100942465439196 (\\Delta x)^{6} u_{x x x x x x} - 1.32538009434772 (\\Delta x)^{5} u_{x x x x x} - 0.273713878015489 (\\Delta x)^{4} u_{x x x x} + 0.138879968868862 (\\Delta x)^{3} u_{x x x} + 0.00938341359623518 (\\Delta x)^{2} u_{x x} + 18.9993758306105 (\\Delta x) u_{x}$"
      ],
      "text/plain": [
       "<IPython.core.display.Math object>"
      ]
     },
     "metadata": {},
     "output_type": "display_data"
    },
    {
     "data": {
      "text/latex": [
       "$\\displaystyle \\text{Mat[9] = } - 0.0366356756900518 (\\Delta x)^{6} u_{x x x x x x} - 1.40363572485431 (\\Delta x)^{5} u_{x x x x x} - 0.096211437586357 (\\Delta x)^{4} u_{x x x x} + 0.159348214649226 (\\Delta x)^{3} u_{x x x} + 0.00330683203157456 (\\Delta x)^{2} u_{x x} + 18.9992876859178 (\\Delta x) u_{x}$"
      ],
      "text/plain": [
       "<IPython.core.display.Math object>"
      ]
     },
     "metadata": {},
     "output_type": "display_data"
    },
    {
     "data": {
      "text/latex": [
       "$\\displaystyle \\text{Mat[10] = } 0.0366356756900503 (\\Delta x)^{6} u_{x x x x x x} - 1.4036357248543 (\\Delta x)^{5} u_{x x x x x} + 0.0962114375863592 (\\Delta x)^{4} u_{x x x x} + 0.159348214649266 (\\Delta x)^{3} u_{x x x} - 0.00330683203154214 (\\Delta x)^{2} u_{x x} + 18.9992876859178 (\\Delta x) u_{x}$"
      ],
      "text/plain": [
       "<IPython.core.display.Math object>"
      ]
     },
     "metadata": {},
     "output_type": "display_data"
    },
    {
     "data": {
      "text/latex": [
       "$\\displaystyle \\text{Mat[11] = } 0.100942465439201 (\\Delta x)^{6} u_{x x x x x x} - 1.32538009434772 (\\Delta x)^{5} u_{x x x x x} + 0.273713878015489 (\\Delta x)^{4} u_{x x x x} + 0.138879968868858 (\\Delta x)^{3} u_{x x x} - 0.00938341359630268 (\\Delta x)^{2} u_{x x} + 18.9993758306104 (\\Delta x) u_{x}$"
      ],
      "text/plain": [
       "<IPython.core.display.Math object>"
      ]
     },
     "metadata": {},
     "output_type": "display_data"
    },
    {
     "data": {
      "text/latex": [
       "$\\displaystyle \\text{Mat[12] = } 0.14208057677068 (\\Delta x)^{6} u_{x x x x x x} - 1.18205404109903 (\\Delta x)^{5} u_{x x x x x} + 0.410553049581611 (\\Delta x)^{4} u_{x x x x} + 0.102310121144649 (\\Delta x)^{3} u_{x x x} - 0.0139792384474422 (\\Delta x)^{2} u_{x x} + 18.9995380054476 (\\Delta x) u_{x}$"
      ],
      "text/plain": [
       "<IPython.core.display.Math object>"
      ]
     },
     "metadata": {},
     "output_type": "display_data"
    },
    {
     "data": {
      "text/latex": [
       "$\\displaystyle \\text{Mat[13] = } 0.154827013515455 (\\Delta x)^{6} u_{x x x x x x} - 0.996389357184034 (\\Delta x)^{5} u_{x x x x x} + 0.491624827024717 (\\Delta x)^{4} u_{x x x x} + 0.0569637314618823 (\\Delta x)^{3} u_{x x x} - 0.0164966137393621 (\\Delta x)^{2} u_{x x} + 18.9997493459324 (\\Delta x) u_{x}$"
      ],
      "text/plain": [
       "<IPython.core.display.Math object>"
      ]
     },
     "metadata": {},
     "output_type": "display_data"
    },
    {
     "data": {
      "text/latex": [
       "$\\displaystyle \\text{Mat[14] = } 0.143286521355201 (\\Delta x)^{6} u_{x x x x x x} - 0.79471299845333 (\\Delta x)^{5} u_{x x x x x} + 0.51493183238319 (\\Delta x)^{4} u_{x x x x} + 0.0109342479724968 (\\Delta x)^{3} u_{x x x} - 0.016784240552957 (\\Delta x)^{2} u_{x x} + 18.999979820096 (\\Delta x) u_{x}$"
      ],
      "text/plain": [
       "<IPython.core.display.Math object>"
      ]
     },
     "metadata": {},
     "output_type": "display_data"
    },
    {
     "data": {
      "text/latex": [
       "$\\displaystyle \\text{Mat[15] = } 0.11706989132444 (\\Delta x)^{6} u_{x x x x x x} - 0.600800556362831 (\\Delta x)^{5} u_{x x x x x} + 0.489635577717416 (\\Delta x)^{4} u_{x x x x} - 0.0289965666888832 (\\Delta x)^{3} u_{x x x} - 0.0151042389753835 (\\Delta x)^{2} u_{x x} + 19.0002002610982 (\\Delta x) u_{x}$"
      ],
      "text/plain": [
       "<IPython.core.display.Math object>"
      ]
     },
     "metadata": {},
     "output_type": "display_data"
    },
    {
     "data": {
      "text/latex": [
       "$\\displaystyle \\text{Mat[16] = } 0.00184178927802617 (\\Delta x)^{6} u_{x x x x x x} - 0.600202418912256 (\\Delta x)^{5} u_{x x x x x} + 0.154940359592803 (\\Delta x)^{4} u_{x x x x} - 0.249644299069332 (\\Delta x)^{3} u_{x x x} + 0.147061816179827 (\\Delta x)^{2} u_{x x} + 18.9988372683518 (\\Delta x) u_{x}$"
      ],
      "text/plain": [
       "<IPython.core.display.Math object>"
      ]
     },
     "metadata": {},
     "output_type": "display_data"
    },
    {
     "data": {
      "text/latex": [
       "$\\displaystyle \\text{Mat[17] = } 0.0654274268995785 (\\Delta x)^{6} u_{x x x x x x} - 0.337346713098348 (\\Delta x)^{5} u_{x x x x x} + 0.408324309589175 (\\Delta x)^{4} u_{x x x x} - 0.321703208078931 (\\Delta x)^{3} u_{x x x} + 0.0881560326078672 (\\Delta x)^{2} u_{x x} + 19.0001104829005 (\\Delta x) u_{x}$"
      ],
      "text/plain": [
       "<IPython.core.display.Math object>"
      ]
     },
     "metadata": {},
     "output_type": "display_data"
    },
    {
     "data": {
      "text/latex": [
       "$\\displaystyle \\text{Mat[18] = } (\\Delta x) \\left(- 0.00174942420754495 (\\Delta x)^{5} u_{x x x x x x} + 0.041800693349109 (\\Delta x)^{4} u_{x x x x x} - 0.0687715680406741 (\\Delta x)^{3} u_{x x x x} + 1.61630288465975 (\\Delta x)^{2} u_{x x x} - 0.814951836671292 (\\Delta x) u_{x x} + 19.0154329734641 u_{x}\\right)$"
      ],
      "text/plain": [
       "<IPython.core.display.Math object>"
      ]
     },
     "metadata": {},
     "output_type": "display_data"
    },
    {
     "data": {
      "text/latex": [
       "$\\displaystyle \\text{Mat[19] = } 0.572965755653996 (\\Delta x)^{6} u_{x x x x x x} - 1.60710311170679 (\\Delta x)^{5} u_{x x x x x} + 3.69664405502178 (\\Delta x)^{4} u_{x x x x} - 5.96713677621529 (\\Delta x)^{3} u_{x x x} + 2.32498557847206 (\\Delta x)^{2} u_{x x} + 18.9539704712067 (\\Delta x) u_{x}$"
      ],
      "text/plain": [
       "<IPython.core.display.Math object>"
      ]
     },
     "metadata": {},
     "output_type": "display_data"
    },
    {
     "data": {
      "text/latex": [
       "$\\displaystyle \\text{Using a value of } \\Delta x =  0.0526315789473684$"
      ],
      "text/plain": [
       "<IPython.core.display.Math object>"
      ]
     },
     "metadata": {},
     "output_type": "display_data"
    },
    {
     "data": {
      "text/latex": [
       "$\\displaystyle \\text{Mat[0] = } - 2.04901960784314 (\\Delta x)^{6} u_{x x x x x x} - 4.31225490196078 (\\Delta x)^{5} u_{x x x x x} - 7.26470588235294 (\\Delta x)^{4} u_{x x x x} - 8.00980392156863 (\\Delta x)^{3} u_{x x x} + 19 (\\Delta x) u_{x}$"
      ],
      "text/plain": [
       "<IPython.core.display.Math object>"
      ]
     },
     "metadata": {},
     "output_type": "display_data"
    },
    {
     "data": {
      "text/latex": [
       "$\\displaystyle \\text{Mat[1] = } (\\Delta x) \\left(0.158333333333333 (\\Delta x)^{4} u_{x x x x x} + 3.16666666666667 (\\Delta x)^{2} u_{x x x} + 19 u_{x}\\right)$"
      ],
      "text/plain": [
       "<IPython.core.display.Math object>"
      ]
     },
     "metadata": {},
     "output_type": "display_data"
    },
    {
     "data": {
      "text/latex": [
       "$\\displaystyle \\text{Mat[2] = } - 0.725387596899225 (\\Delta x)^{5} u_{x x x x x} - 0.368217054263566 (\\Delta x)^{3} u_{x x x} + 19 (\\Delta x) u_{x}$"
      ],
      "text/plain": [
       "<IPython.core.display.Math object>"
      ]
     },
     "metadata": {},
     "output_type": "display_data"
    },
    {
     "data": {
      "text/latex": [
       "$\\displaystyle \\text{Mat[3] = } 0.452380952380952 (\\Delta x)^{6} u_{x x x x x x} - 1.39268707482993 (\\Delta x)^{5} u_{x x x x x} + 0.969387755102041 (\\Delta x)^{4} u_{x x x x} - 0.710884353741497 (\\Delta x)^{3} u_{x x x} + 19 (\\Delta x) u_{x}$"
      ],
      "text/plain": [
       "<IPython.core.display.Math object>"
      ]
     },
     "metadata": {},
     "output_type": "display_data"
    },
    {
     "data": {
      "text/latex": [
       "$\\displaystyle \\text{Mat[4] = } - 0.633333333333333 (\\Delta x)^{5} u_{x x x x x} + 19 (\\Delta x) u_{x}$"
      ],
      "text/plain": [
       "<IPython.core.display.Math object>"
      ]
     },
     "metadata": {},
     "output_type": "display_data"
    },
    {
     "data": {
      "text/latex": [
       "$\\displaystyle \\text{Mat[5] = } - 0.633333333333333 (\\Delta x)^{5} u_{x x x x x} + 19 (\\Delta x) u_{x}$"
      ],
      "text/plain": [
       "<IPython.core.display.Math object>"
      ]
     },
     "metadata": {},
     "output_type": "display_data"
    },
    {
     "data": {
      "text/latex": [
       "$\\displaystyle \\text{Mat[6] = } - 0.633333333333333 (\\Delta x)^{5} u_{x x x x x} + 19 (\\Delta x) u_{x}$"
      ],
      "text/plain": [
       "<IPython.core.display.Math object>"
      ]
     },
     "metadata": {},
     "output_type": "display_data"
    },
    {
     "data": {
      "text/latex": [
       "$\\displaystyle \\text{Mat[7] = } - 0.633333333333333 (\\Delta x)^{5} u_{x x x x x} + 19 (\\Delta x) u_{x}$"
      ],
      "text/plain": [
       "<IPython.core.display.Math object>"
      ]
     },
     "metadata": {},
     "output_type": "display_data"
    },
    {
     "data": {
      "text/latex": [
       "$\\displaystyle \\text{Mat[8] = } - 0.633333333333333 (\\Delta x)^{5} u_{x x x x x} + 19 (\\Delta x) u_{x}$"
      ],
      "text/plain": [
       "<IPython.core.display.Math object>"
      ]
     },
     "metadata": {},
     "output_type": "display_data"
    },
    {
     "data": {
      "text/latex": [
       "$\\displaystyle \\text{Mat[9] = } - 0.633333333333334 (\\Delta x)^{5} u_{x x x x x} + 19 (\\Delta x) u_{x}$"
      ],
      "text/plain": [
       "<IPython.core.display.Math object>"
      ]
     },
     "metadata": {},
     "output_type": "display_data"
    },
    {
     "data": {
      "text/latex": [
       "$\\displaystyle \\text{Mat[10] = } - 0.633333333333333 (\\Delta x)^{5} u_{x x x x x} + 19 (\\Delta x) u_{x}$"
      ],
      "text/plain": [
       "<IPython.core.display.Math object>"
      ]
     },
     "metadata": {},
     "output_type": "display_data"
    },
    {
     "data": {
      "text/latex": [
       "$\\displaystyle \\text{Mat[11] = } - 0.633333333333332 (\\Delta x)^{5} u_{x x x x x} + 19 (\\Delta x) u_{x}$"
      ],
      "text/plain": [
       "<IPython.core.display.Math object>"
      ]
     },
     "metadata": {},
     "output_type": "display_data"
    },
    {
     "data": {
      "text/latex": [
       "$\\displaystyle \\text{Mat[12] = } - 0.633333333333335 (\\Delta x)^{5} u_{x x x x x} + 19 (\\Delta x) u_{x}$"
      ],
      "text/plain": [
       "<IPython.core.display.Math object>"
      ]
     },
     "metadata": {},
     "output_type": "display_data"
    },
    {
     "data": {
      "text/latex": [
       "$\\displaystyle \\text{Mat[13] = } - 0.633333333333333 (\\Delta x)^{5} u_{x x x x x} + 19 (\\Delta x) u_{x}$"
      ],
      "text/plain": [
       "<IPython.core.display.Math object>"
      ]
     },
     "metadata": {},
     "output_type": "display_data"
    },
    {
     "data": {
      "text/latex": [
       "$\\displaystyle \\text{Mat[14] = } - 0.633333333333332 (\\Delta x)^{5} u_{x x x x x} + 19 (\\Delta x) u_{x}$"
      ],
      "text/plain": [
       "<IPython.core.display.Math object>"
      ]
     },
     "metadata": {},
     "output_type": "display_data"
    },
    {
     "data": {
      "text/latex": [
       "$\\displaystyle \\text{Mat[15] = } - 0.633333333333333 (\\Delta x)^{5} u_{x x x x x} + 19 (\\Delta x) u_{x}$"
      ],
      "text/plain": [
       "<IPython.core.display.Math object>"
      ]
     },
     "metadata": {},
     "output_type": "display_data"
    },
    {
     "data": {
      "text/latex": [
       "$\\displaystyle \\text{Mat[16] = } - 0.452380952380953 (\\Delta x)^{6} u_{x x x x x x} - 1.39268707482993 (\\Delta x)^{5} u_{x x x x x} - 0.969387755102043 (\\Delta x)^{4} u_{x x x x} - 0.710884353741512 (\\Delta x)^{3} u_{x x x} + 19 (\\Delta x) u_{x}$"
      ],
      "text/plain": [
       "<IPython.core.display.Math object>"
      ]
     },
     "metadata": {},
     "output_type": "display_data"
    },
    {
     "data": {
      "text/latex": [
       "$\\displaystyle \\text{Mat[17] = } - 0.725387596899224 (\\Delta x)^{5} u_{x x x x x} - 0.368217054263566 (\\Delta x)^{3} u_{x x x} + 19 (\\Delta x) u_{x}$"
      ],
      "text/plain": [
       "<IPython.core.display.Math object>"
      ]
     },
     "metadata": {},
     "output_type": "display_data"
    },
    {
     "data": {
      "text/latex": [
       "$\\displaystyle \\text{Mat[18] = } (\\Delta x) \\left(0.158333333333334 (\\Delta x)^{4} u_{x x x x x} + 3.16666666666668 (\\Delta x)^{2} u_{x x x} + 19 u_{x}\\right)$"
      ],
      "text/plain": [
       "<IPython.core.display.Math object>"
      ]
     },
     "metadata": {},
     "output_type": "display_data"
    },
    {
     "data": {
      "text/latex": [
       "$\\displaystyle \\text{Mat[19] = } 2.04901960784314 (\\Delta x)^{6} u_{x x x x x x} - 4.31225490196079 (\\Delta x)^{5} u_{x x x x x} + 7.26470588235295 (\\Delta x)^{4} u_{x x x x} - 8.00980392156863 (\\Delta x)^{3} u_{x x x} + 19 (\\Delta x) u_{x}$"
      ],
      "text/plain": [
       "<IPython.core.display.Math object>"
      ]
     },
     "metadata": {},
     "output_type": "display_data"
    }
   ],
   "source": [
    "#print(Href)\n",
    "#print(Hrefref)\n",
    "from Source.Methods.DebugTools import Check_Taylor_Series_1D\n",
    "Check_Taylor_Series_1D(Dref,refmesh.x,num_terms=6)\n",
    "Check_Taylor_Series_1D(Drefref,refref.x,num_terms=6)"
   ]
  },
  {
   "cell_type": "code",
   "execution_count": 25,
   "metadata": {},
   "outputs": [
    {
     "name": "stdout",
     "output_type": "stream",
     "text": [
      "skipping\n"
     ]
    }
   ],
   "source": [
    "%%script echo skipping\n",
    "plot_sparsity(Drefref,figsize=(3,3))\n",
    "plot_sparsity(Dref,figsize=(3,3))"
   ]
  },
  {
   "cell_type": "code",
   "execution_count": 26,
   "metadata": {},
   "outputs": [
    {
     "name": "stdout",
     "output_type": "stream",
     "text": [
      "0.00544988870379561 vs 0.005701617638613235\n",
      "7.436918028906487e-05 vs 7.222249237902121e-05\n"
     ]
    }
   ],
   "source": [
    "xrefref = refrefmesh.x\n",
    "xref = refmesh.x\n",
    "def ufunc(x):\n",
    "    return np.sin(np.pi*x)\n",
    "def ufuncder(x):\n",
    "    return np.pi*np.cos(np.pi*x)\n",
    "ter_refref = Drefref @ ufunc(xrefref) - ufuncder(xrefref)\n",
    "ter_ref = Dref @ ufunc(xref) - ufuncder(xref)\n",
    "#ter_ref = Dref @ ufunc(xrefref) - ufuncder(xrefref)\n",
    "\n",
    "print(np.mean(abs(ter_refref)), 'vs', np.mean(abs(ter_ref)))\n",
    "print(ter_refref@np.diag(Hrefref)@ter_refref, 'vs', ter_ref@np.diag(Href)@ter_ref)"
   ]
  },
  {
   "cell_type": "code",
   "execution_count": 27,
   "metadata": {},
   "outputs": [
    {
     "name": "stdout",
     "output_type": "stream",
     "text": [
      "reference reference\n",
      "Test: Derivative D is order 2.9 in test 1, 3.0 in test 2. (element-refinement, so should expect p+1)\n",
      "reference\n",
      "Test: Derivative D is order 0.97 in test 1, 0.99 in test 2. (element-refinement, so should expect p+1)\n"
     ]
    }
   ],
   "source": [
    "print('reference reference')\n",
    "MakeSbpOp.check_accuracy(Drefref, xrefref)\n",
    "print('reference')\n",
    "MakeSbpOp.check_accuracy(Dref, xref)"
   ]
  },
  {
   "cell_type": "code",
   "execution_count": 28,
   "metadata": {},
   "outputs": [
    {
     "data": {
      "text/plain": [
       "array([1.00098286, 0.9996177 , 1.00004882, 1.00008819, 0.99999894,\n",
       "       0.99999875, 0.99999859, 0.99999846, 0.99999837, 0.99999833,\n",
       "       0.99999833, 0.99999837, 0.99999846, 0.99999859, 0.99999875,\n",
       "       0.99999894, 1.00008819, 1.00004882, 0.9996177 , 1.00098286])"
      ]
     },
     "execution_count": 28,
     "metadata": {},
     "output_type": "execute_result"
    }
   ],
   "source": [
    "Dref @ xref"
   ]
  },
  {
   "cell_type": "code",
   "execution_count": 29,
   "metadata": {},
   "outputs": [
    {
     "name": "stdout",
     "output_type": "stream",
     "text": [
      "2.0459803864086856e-05\n",
      "2.704536161962645e-06\n",
      "3.4384774319287657e-07\n"
     ]
    }
   ],
   "source": [
    "print(np.mean(np.abs(Drefref @ np.sin(0.5*xrefref+0.1) - 0.5*np.cos(0.5*xrefref+0.1))))\n",
    "print(np.mean(np.abs(Drefref @ np.sin(0.25*xrefref+0.1) - 0.25*np.cos(0.25*xrefref+0.1))))\n",
    "print(np.mean(np.abs(Drefref @ np.sin(0.125*xrefref+0.1) - 0.125*np.cos(0.125*xrefref+0.1))))"
   ]
  },
  {
   "cell_type": "code",
   "execution_count": 30,
   "metadata": {},
   "outputs": [
    {
     "name": "stdout",
     "output_type": "stream",
     "text": [
      "7.26482104996623e-05\n",
      "3.706779999957943e-05\n",
      "1.8668340888320506e-05\n"
     ]
    }
   ],
   "source": [
    "print(np.mean(np.abs(Dref @ np.sin(0.5*xref+0.1) - 0.5*np.cos(0.5*xref+0.1))))\n",
    "print(np.mean(np.abs(Dref @ np.sin(0.25*xref+0.1) - 0.25*np.cos(0.25*xref+0.1))))\n",
    "print(np.mean(np.abs(Dref @ np.sin(0.125*xref+0.1) - 0.125*np.cos(0.125*xref+0.1))))"
   ]
  },
  {
   "cell_type": "code",
   "execution_count": 32,
   "metadata": {},
   "outputs": [
    {
     "name": "stdout",
     "output_type": "stream",
     "text": [
      "Drefref: 0.00544988870379561 0.0009467087056038855 0.041535271402372634 0.014843656217534404 0.00037302689329549827 0.0004410530665406337\n",
      "Dref: 0.005701617638613235 0.0019331436181784262 0.04100307928844838 0.006246050325702332 0.0008928781282148416 0.0005947245421634134\n"
     ]
    }
   ],
   "source": [
    "def test_f1(x):\n",
    "    return np.sin(np.pi*x)\n",
    "def test_df1(x):\n",
    "    return np.pi*np.cos(np.pi*x)\n",
    "def test_f2(x):\n",
    "    return np.cos(np.pi*x)\n",
    "def test_df2(x):\n",
    "    return -np.pi*np.sin(np.pi*x)\n",
    "def test_f3(x):\n",
    "    return np.sin(2*np.pi*x + 0.1)\n",
    "def test_df3(x):\n",
    "    return 2*np.pi*np.cos(2*np.pi*x + 0.1)\n",
    "def test_f4(x):\n",
    "    return np.cos(2*np.pi*x + 0.1)\n",
    "def test_df4(x):\n",
    "    return -2*np.pi*np.sin(2*np.pi*x + 0.1)\n",
    "def test_f5(x):\n",
    "    #return x\n",
    "    return np.sin(0.5*np.pi*x + 0.2)\n",
    "def test_df5(x):\n",
    "    #return np.ones(x.shape)\n",
    "    return 0.5*np.pi*np.cos(0.5*np.pi*x + 0.2)\n",
    "def test_f6(x):\n",
    "    #return x**p\n",
    "    return np.cos(0.5*np.pi*x + 0.2)\n",
    "def test_df6(x):\n",
    "    #return p*x**(p-1)\n",
    "    return -0.5*np.pi*np.sin(0.5*np.pi*x + 0.2)\n",
    "\n",
    "ter1 = np.mean(abs(Drefref @ test_f1(xrefref) - test_df1(xrefref)))\n",
    "ter2 = np.mean(abs(Drefref @ test_f2(xrefref) - test_df2(xrefref)))\n",
    "ter3 = np.mean(abs(Drefref @ test_f3(xrefref) - test_df3(xrefref)))\n",
    "ter4 = np.mean(abs(Drefref @ test_f4(xrefref) - test_df4(xrefref)))\n",
    "ter5 = np.mean(abs(Drefref @ test_f5(xrefref) - test_df5(xrefref)))\n",
    "ter6 = np.mean(abs(Drefref @ test_f6(xrefref) - test_df6(xrefref)))\n",
    "print('Drefref:',ter1,ter2,ter3,ter4,ter5,ter6)\n",
    "\n",
    "ter1 = np.mean(abs(Dref @ test_f1(xref) - test_df1(xref)))\n",
    "ter2 = np.mean(abs(Dref @ test_f2(xref) - test_df2(xref)))\n",
    "ter3 = np.mean(abs(Dref @ test_f3(xref) - test_df3(xref)))\n",
    "ter4 = np.mean(abs(Dref @ test_f4(xref) - test_df4(xref)))\n",
    "ter5 = np.mean(abs(Dref @ test_f5(xref) - test_df5(xref)))\n",
    "ter6 = np.mean(abs(Dref @ test_f6(xref) - test_df6(xref)))\n",
    "print('Dref:',ter1,ter2,ter3,ter4,ter5,ter6)"
   ]
  },
  {
   "cell_type": "code",
   "execution_count": null,
   "metadata": {},
   "outputs": [],
   "source": []
  }
 ],
 "metadata": {
  "kernelspec": {
   "display_name": "ESSBP",
   "language": "python",
   "name": "python3"
  },
  "language_info": {
   "codemirror_mode": {
    "name": "ipython",
    "version": 3
   },
   "file_extension": ".py",
   "mimetype": "text/x-python",
   "name": "python",
   "nbconvert_exporter": "python",
   "pygments_lexer": "ipython3",
   "version": "3.11.2"
  }
 },
 "nbformat": 4,
 "nbformat_minor": 2
}
